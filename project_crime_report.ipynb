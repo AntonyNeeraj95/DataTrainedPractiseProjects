{
 "cells": [
  {
   "cell_type": "code",
   "execution_count": 1,
   "metadata": {},
   "outputs": [],
   "source": [
    "import pandas as pd\n",
    "import numpy as np\n",
    "import seaborn as sns\n",
    "import matplotlib.pyplot as plt\n",
    "import warnings\n",
    "warnings.filterwarnings('ignore')"
   ]
  },
  {
   "cell_type": "code",
   "execution_count": 2,
   "metadata": {},
   "outputs": [
    {
     "data": {
      "text/html": [
       "<div>\n",
       "<style scoped>\n",
       "    .dataframe tbody tr th:only-of-type {\n",
       "        vertical-align: middle;\n",
       "    }\n",
       "\n",
       "    .dataframe tbody tr th {\n",
       "        vertical-align: top;\n",
       "    }\n",
       "\n",
       "    .dataframe thead th {\n",
       "        text-align: right;\n",
       "    }\n",
       "</style>\n",
       "<table border=\"1\" class=\"dataframe\">\n",
       "  <thead>\n",
       "    <tr style=\"text-align: right;\">\n",
       "      <th></th>\n",
       "      <th>state</th>\n",
       "      <th>county</th>\n",
       "      <th>community</th>\n",
       "      <th>communityname</th>\n",
       "      <th>fold</th>\n",
       "      <th>population</th>\n",
       "      <th>householdsize</th>\n",
       "      <th>racepctblack</th>\n",
       "      <th>racePctWhite</th>\n",
       "      <th>racePctAsian</th>\n",
       "      <th>...</th>\n",
       "      <th>LandArea</th>\n",
       "      <th>PopDens</th>\n",
       "      <th>PctUsePubTrans</th>\n",
       "      <th>PolicCars</th>\n",
       "      <th>PolicOperBudg</th>\n",
       "      <th>LemasPctPolicOnPatr</th>\n",
       "      <th>LemasGangUnitDeploy</th>\n",
       "      <th>LemasPctOfficDrugUn</th>\n",
       "      <th>PolicBudgPerPop</th>\n",
       "      <th>ViolentCrimesPerPop</th>\n",
       "    </tr>\n",
       "  </thead>\n",
       "  <tbody>\n",
       "    <tr>\n",
       "      <th>0</th>\n",
       "      <td>8</td>\n",
       "      <td>?</td>\n",
       "      <td>?</td>\n",
       "      <td>Lakewoodcity</td>\n",
       "      <td>1</td>\n",
       "      <td>0.19</td>\n",
       "      <td>0.33</td>\n",
       "      <td>0.02</td>\n",
       "      <td>0.90</td>\n",
       "      <td>0.12</td>\n",
       "      <td>...</td>\n",
       "      <td>0.12</td>\n",
       "      <td>0.26</td>\n",
       "      <td>0.20</td>\n",
       "      <td>0.06</td>\n",
       "      <td>0.04</td>\n",
       "      <td>0.9</td>\n",
       "      <td>0.5</td>\n",
       "      <td>0.32</td>\n",
       "      <td>0.14</td>\n",
       "      <td>0.20</td>\n",
       "    </tr>\n",
       "    <tr>\n",
       "      <th>1</th>\n",
       "      <td>53</td>\n",
       "      <td>?</td>\n",
       "      <td>?</td>\n",
       "      <td>Tukwilacity</td>\n",
       "      <td>1</td>\n",
       "      <td>0.00</td>\n",
       "      <td>0.16</td>\n",
       "      <td>0.12</td>\n",
       "      <td>0.74</td>\n",
       "      <td>0.45</td>\n",
       "      <td>...</td>\n",
       "      <td>0.02</td>\n",
       "      <td>0.12</td>\n",
       "      <td>0.45</td>\n",
       "      <td>?</td>\n",
       "      <td>?</td>\n",
       "      <td>?</td>\n",
       "      <td>?</td>\n",
       "      <td>0.00</td>\n",
       "      <td>?</td>\n",
       "      <td>0.67</td>\n",
       "    </tr>\n",
       "    <tr>\n",
       "      <th>2</th>\n",
       "      <td>24</td>\n",
       "      <td>?</td>\n",
       "      <td>?</td>\n",
       "      <td>Aberdeentown</td>\n",
       "      <td>1</td>\n",
       "      <td>0.00</td>\n",
       "      <td>0.42</td>\n",
       "      <td>0.49</td>\n",
       "      <td>0.56</td>\n",
       "      <td>0.17</td>\n",
       "      <td>...</td>\n",
       "      <td>0.01</td>\n",
       "      <td>0.21</td>\n",
       "      <td>0.02</td>\n",
       "      <td>?</td>\n",
       "      <td>?</td>\n",
       "      <td>?</td>\n",
       "      <td>?</td>\n",
       "      <td>0.00</td>\n",
       "      <td>?</td>\n",
       "      <td>0.43</td>\n",
       "    </tr>\n",
       "    <tr>\n",
       "      <th>3</th>\n",
       "      <td>34</td>\n",
       "      <td>5</td>\n",
       "      <td>81440</td>\n",
       "      <td>Willingborotownship</td>\n",
       "      <td>1</td>\n",
       "      <td>0.04</td>\n",
       "      <td>0.77</td>\n",
       "      <td>1.00</td>\n",
       "      <td>0.08</td>\n",
       "      <td>0.12</td>\n",
       "      <td>...</td>\n",
       "      <td>0.02</td>\n",
       "      <td>0.39</td>\n",
       "      <td>0.28</td>\n",
       "      <td>?</td>\n",
       "      <td>?</td>\n",
       "      <td>?</td>\n",
       "      <td>?</td>\n",
       "      <td>0.00</td>\n",
       "      <td>?</td>\n",
       "      <td>0.12</td>\n",
       "    </tr>\n",
       "    <tr>\n",
       "      <th>4</th>\n",
       "      <td>42</td>\n",
       "      <td>95</td>\n",
       "      <td>6096</td>\n",
       "      <td>Bethlehemtownship</td>\n",
       "      <td>1</td>\n",
       "      <td>0.01</td>\n",
       "      <td>0.55</td>\n",
       "      <td>0.02</td>\n",
       "      <td>0.95</td>\n",
       "      <td>0.09</td>\n",
       "      <td>...</td>\n",
       "      <td>0.04</td>\n",
       "      <td>0.09</td>\n",
       "      <td>0.02</td>\n",
       "      <td>?</td>\n",
       "      <td>?</td>\n",
       "      <td>?</td>\n",
       "      <td>?</td>\n",
       "      <td>0.00</td>\n",
       "      <td>?</td>\n",
       "      <td>0.03</td>\n",
       "    </tr>\n",
       "    <tr>\n",
       "      <th>...</th>\n",
       "      <td>...</td>\n",
       "      <td>...</td>\n",
       "      <td>...</td>\n",
       "      <td>...</td>\n",
       "      <td>...</td>\n",
       "      <td>...</td>\n",
       "      <td>...</td>\n",
       "      <td>...</td>\n",
       "      <td>...</td>\n",
       "      <td>...</td>\n",
       "      <td>...</td>\n",
       "      <td>...</td>\n",
       "      <td>...</td>\n",
       "      <td>...</td>\n",
       "      <td>...</td>\n",
       "      <td>...</td>\n",
       "      <td>...</td>\n",
       "      <td>...</td>\n",
       "      <td>...</td>\n",
       "      <td>...</td>\n",
       "      <td>...</td>\n",
       "    </tr>\n",
       "    <tr>\n",
       "      <th>1989</th>\n",
       "      <td>12</td>\n",
       "      <td>?</td>\n",
       "      <td>?</td>\n",
       "      <td>TempleTerracecity</td>\n",
       "      <td>10</td>\n",
       "      <td>0.01</td>\n",
       "      <td>0.40</td>\n",
       "      <td>0.10</td>\n",
       "      <td>0.87</td>\n",
       "      <td>0.12</td>\n",
       "      <td>...</td>\n",
       "      <td>0.01</td>\n",
       "      <td>0.28</td>\n",
       "      <td>0.05</td>\n",
       "      <td>?</td>\n",
       "      <td>?</td>\n",
       "      <td>?</td>\n",
       "      <td>?</td>\n",
       "      <td>0.00</td>\n",
       "      <td>?</td>\n",
       "      <td>0.09</td>\n",
       "    </tr>\n",
       "    <tr>\n",
       "      <th>1990</th>\n",
       "      <td>6</td>\n",
       "      <td>?</td>\n",
       "      <td>?</td>\n",
       "      <td>Seasidecity</td>\n",
       "      <td>10</td>\n",
       "      <td>0.05</td>\n",
       "      <td>0.96</td>\n",
       "      <td>0.46</td>\n",
       "      <td>0.28</td>\n",
       "      <td>0.83</td>\n",
       "      <td>...</td>\n",
       "      <td>0.02</td>\n",
       "      <td>0.37</td>\n",
       "      <td>0.20</td>\n",
       "      <td>?</td>\n",
       "      <td>?</td>\n",
       "      <td>?</td>\n",
       "      <td>?</td>\n",
       "      <td>0.00</td>\n",
       "      <td>?</td>\n",
       "      <td>0.45</td>\n",
       "    </tr>\n",
       "    <tr>\n",
       "      <th>1991</th>\n",
       "      <td>9</td>\n",
       "      <td>9</td>\n",
       "      <td>80070</td>\n",
       "      <td>Waterburytown</td>\n",
       "      <td>10</td>\n",
       "      <td>0.16</td>\n",
       "      <td>0.37</td>\n",
       "      <td>0.25</td>\n",
       "      <td>0.69</td>\n",
       "      <td>0.04</td>\n",
       "      <td>...</td>\n",
       "      <td>0.08</td>\n",
       "      <td>0.32</td>\n",
       "      <td>0.18</td>\n",
       "      <td>0.08</td>\n",
       "      <td>0.06</td>\n",
       "      <td>0.78</td>\n",
       "      <td>0</td>\n",
       "      <td>0.91</td>\n",
       "      <td>0.28</td>\n",
       "      <td>0.23</td>\n",
       "    </tr>\n",
       "    <tr>\n",
       "      <th>1992</th>\n",
       "      <td>25</td>\n",
       "      <td>17</td>\n",
       "      <td>72600</td>\n",
       "      <td>Walthamcity</td>\n",
       "      <td>10</td>\n",
       "      <td>0.08</td>\n",
       "      <td>0.51</td>\n",
       "      <td>0.06</td>\n",
       "      <td>0.87</td>\n",
       "      <td>0.22</td>\n",
       "      <td>...</td>\n",
       "      <td>0.03</td>\n",
       "      <td>0.38</td>\n",
       "      <td>0.33</td>\n",
       "      <td>0.02</td>\n",
       "      <td>0.02</td>\n",
       "      <td>0.79</td>\n",
       "      <td>0</td>\n",
       "      <td>0.22</td>\n",
       "      <td>0.18</td>\n",
       "      <td>0.19</td>\n",
       "    </tr>\n",
       "    <tr>\n",
       "      <th>1993</th>\n",
       "      <td>6</td>\n",
       "      <td>?</td>\n",
       "      <td>?</td>\n",
       "      <td>Ontariocity</td>\n",
       "      <td>10</td>\n",
       "      <td>0.20</td>\n",
       "      <td>0.78</td>\n",
       "      <td>0.14</td>\n",
       "      <td>0.46</td>\n",
       "      <td>0.24</td>\n",
       "      <td>...</td>\n",
       "      <td>0.11</td>\n",
       "      <td>0.30</td>\n",
       "      <td>0.05</td>\n",
       "      <td>0.08</td>\n",
       "      <td>0.04</td>\n",
       "      <td>0.73</td>\n",
       "      <td>0.5</td>\n",
       "      <td>1.00</td>\n",
       "      <td>0.13</td>\n",
       "      <td>0.48</td>\n",
       "    </tr>\n",
       "  </tbody>\n",
       "</table>\n",
       "<p>1994 rows × 128 columns</p>\n",
       "</div>"
      ],
      "text/plain": [
       "      state county community        communityname  fold  population  \\\n",
       "0         8      ?         ?         Lakewoodcity     1        0.19   \n",
       "1        53      ?         ?          Tukwilacity     1        0.00   \n",
       "2        24      ?         ?         Aberdeentown     1        0.00   \n",
       "3        34      5     81440  Willingborotownship     1        0.04   \n",
       "4        42     95      6096    Bethlehemtownship     1        0.01   \n",
       "...     ...    ...       ...                  ...   ...         ...   \n",
       "1989     12      ?         ?    TempleTerracecity    10        0.01   \n",
       "1990      6      ?         ?          Seasidecity    10        0.05   \n",
       "1991      9      9     80070        Waterburytown    10        0.16   \n",
       "1992     25     17     72600          Walthamcity    10        0.08   \n",
       "1993      6      ?         ?          Ontariocity    10        0.20   \n",
       "\n",
       "      householdsize  racepctblack  racePctWhite  racePctAsian  ...  LandArea  \\\n",
       "0              0.33          0.02          0.90          0.12  ...      0.12   \n",
       "1              0.16          0.12          0.74          0.45  ...      0.02   \n",
       "2              0.42          0.49          0.56          0.17  ...      0.01   \n",
       "3              0.77          1.00          0.08          0.12  ...      0.02   \n",
       "4              0.55          0.02          0.95          0.09  ...      0.04   \n",
       "...             ...           ...           ...           ...  ...       ...   \n",
       "1989           0.40          0.10          0.87          0.12  ...      0.01   \n",
       "1990           0.96          0.46          0.28          0.83  ...      0.02   \n",
       "1991           0.37          0.25          0.69          0.04  ...      0.08   \n",
       "1992           0.51          0.06          0.87          0.22  ...      0.03   \n",
       "1993           0.78          0.14          0.46          0.24  ...      0.11   \n",
       "\n",
       "      PopDens  PctUsePubTrans  PolicCars  PolicOperBudg  LemasPctPolicOnPatr  \\\n",
       "0        0.26            0.20       0.06           0.04                  0.9   \n",
       "1        0.12            0.45          ?              ?                    ?   \n",
       "2        0.21            0.02          ?              ?                    ?   \n",
       "3        0.39            0.28          ?              ?                    ?   \n",
       "4        0.09            0.02          ?              ?                    ?   \n",
       "...       ...             ...        ...            ...                  ...   \n",
       "1989     0.28            0.05          ?              ?                    ?   \n",
       "1990     0.37            0.20          ?              ?                    ?   \n",
       "1991     0.32            0.18       0.08           0.06                 0.78   \n",
       "1992     0.38            0.33       0.02           0.02                 0.79   \n",
       "1993     0.30            0.05       0.08           0.04                 0.73   \n",
       "\n",
       "      LemasGangUnitDeploy  LemasPctOfficDrugUn  PolicBudgPerPop  \\\n",
       "0                     0.5                 0.32             0.14   \n",
       "1                       ?                 0.00                ?   \n",
       "2                       ?                 0.00                ?   \n",
       "3                       ?                 0.00                ?   \n",
       "4                       ?                 0.00                ?   \n",
       "...                   ...                  ...              ...   \n",
       "1989                    ?                 0.00                ?   \n",
       "1990                    ?                 0.00                ?   \n",
       "1991                    0                 0.91             0.28   \n",
       "1992                    0                 0.22             0.18   \n",
       "1993                  0.5                 1.00             0.13   \n",
       "\n",
       "      ViolentCrimesPerPop  \n",
       "0                    0.20  \n",
       "1                    0.67  \n",
       "2                    0.43  \n",
       "3                    0.12  \n",
       "4                    0.03  \n",
       "...                   ...  \n",
       "1989                 0.09  \n",
       "1990                 0.45  \n",
       "1991                 0.23  \n",
       "1992                 0.19  \n",
       "1993                 0.48  \n",
       "\n",
       "[1994 rows x 128 columns]"
      ]
     },
     "execution_count": 2,
     "metadata": {},
     "output_type": "execute_result"
    }
   ],
   "source": [
    "ds=pd.read_csv('crimes_uci.csv')\n",
    "ds"
   ]
  },
  {
   "cell_type": "code",
   "execution_count": 3,
   "metadata": {},
   "outputs": [
    {
     "name": "stdout",
     "output_type": "stream",
     "text": [
      "<class 'pandas.core.frame.DataFrame'>\n",
      "RangeIndex: 1994 entries, 0 to 1993\n",
      "Columns: 128 entries, state to ViolentCrimesPerPop\n",
      "dtypes: float64(100), int64(2), object(26)\n",
      "memory usage: 1.9+ MB\n"
     ]
    }
   ],
   "source": [
    "ds.info()"
   ]
  },
  {
   "cell_type": "code",
   "execution_count": 4,
   "metadata": {},
   "outputs": [
    {
     "data": {
      "text/plain": [
       "Index(['state', 'county', 'community', 'communityname', 'fold', 'population',\n",
       "       'householdsize', 'racepctblack', 'racePctWhite', 'racePctAsian',\n",
       "       ...\n",
       "       'LandArea', 'PopDens', 'PctUsePubTrans', 'PolicCars', 'PolicOperBudg',\n",
       "       'LemasPctPolicOnPatr', 'LemasGangUnitDeploy', 'LemasPctOfficDrugUn',\n",
       "       'PolicBudgPerPop', 'ViolentCrimesPerPop'],\n",
       "      dtype='object', length=128)"
      ]
     },
     "execution_count": 4,
     "metadata": {},
     "output_type": "execute_result"
    }
   ],
   "source": [
    "ds.columns"
   ]
  },
  {
   "cell_type": "code",
   "execution_count": 5,
   "metadata": {},
   "outputs": [
    {
     "data": {
      "text/html": [
       "<div>\n",
       "<style scoped>\n",
       "    .dataframe tbody tr th:only-of-type {\n",
       "        vertical-align: middle;\n",
       "    }\n",
       "\n",
       "    .dataframe tbody tr th {\n",
       "        vertical-align: top;\n",
       "    }\n",
       "\n",
       "    .dataframe thead th {\n",
       "        text-align: right;\n",
       "    }\n",
       "</style>\n",
       "<table border=\"1\" class=\"dataframe\">\n",
       "  <thead>\n",
       "    <tr style=\"text-align: right;\">\n",
       "      <th></th>\n",
       "      <th>state</th>\n",
       "      <th>fold</th>\n",
       "      <th>population</th>\n",
       "      <th>householdsize</th>\n",
       "      <th>racepctblack</th>\n",
       "      <th>racePctWhite</th>\n",
       "      <th>racePctAsian</th>\n",
       "      <th>racePctHisp</th>\n",
       "      <th>agePct12t21</th>\n",
       "      <th>agePct12t29</th>\n",
       "      <th>...</th>\n",
       "      <th>PctForeignBorn</th>\n",
       "      <th>PctBornSameState</th>\n",
       "      <th>PctSameHouse85</th>\n",
       "      <th>PctSameCity85</th>\n",
       "      <th>PctSameState85</th>\n",
       "      <th>LandArea</th>\n",
       "      <th>PopDens</th>\n",
       "      <th>PctUsePubTrans</th>\n",
       "      <th>LemasPctOfficDrugUn</th>\n",
       "      <th>ViolentCrimesPerPop</th>\n",
       "    </tr>\n",
       "  </thead>\n",
       "  <tbody>\n",
       "    <tr>\n",
       "      <th>count</th>\n",
       "      <td>1994.000000</td>\n",
       "      <td>1994.000000</td>\n",
       "      <td>1994.000000</td>\n",
       "      <td>1994.000000</td>\n",
       "      <td>1994.000000</td>\n",
       "      <td>1994.000000</td>\n",
       "      <td>1994.000000</td>\n",
       "      <td>1994.000000</td>\n",
       "      <td>1994.000000</td>\n",
       "      <td>1994.000000</td>\n",
       "      <td>...</td>\n",
       "      <td>1994.000000</td>\n",
       "      <td>1994.000000</td>\n",
       "      <td>1994.000000</td>\n",
       "      <td>1994.000000</td>\n",
       "      <td>1994.000000</td>\n",
       "      <td>1994.000000</td>\n",
       "      <td>1994.000000</td>\n",
       "      <td>1994.000000</td>\n",
       "      <td>1994.000000</td>\n",
       "      <td>1994.000000</td>\n",
       "    </tr>\n",
       "    <tr>\n",
       "      <th>mean</th>\n",
       "      <td>28.683551</td>\n",
       "      <td>5.493982</td>\n",
       "      <td>0.057593</td>\n",
       "      <td>0.463395</td>\n",
       "      <td>0.179629</td>\n",
       "      <td>0.753716</td>\n",
       "      <td>0.153681</td>\n",
       "      <td>0.144022</td>\n",
       "      <td>0.424218</td>\n",
       "      <td>0.493867</td>\n",
       "      <td>...</td>\n",
       "      <td>0.215552</td>\n",
       "      <td>0.608892</td>\n",
       "      <td>0.535050</td>\n",
       "      <td>0.626424</td>\n",
       "      <td>0.651530</td>\n",
       "      <td>0.065231</td>\n",
       "      <td>0.232854</td>\n",
       "      <td>0.161685</td>\n",
       "      <td>0.094052</td>\n",
       "      <td>0.237979</td>\n",
       "    </tr>\n",
       "    <tr>\n",
       "      <th>std</th>\n",
       "      <td>16.397553</td>\n",
       "      <td>2.873694</td>\n",
       "      <td>0.126906</td>\n",
       "      <td>0.163717</td>\n",
       "      <td>0.253442</td>\n",
       "      <td>0.244039</td>\n",
       "      <td>0.208877</td>\n",
       "      <td>0.232492</td>\n",
       "      <td>0.155196</td>\n",
       "      <td>0.143564</td>\n",
       "      <td>...</td>\n",
       "      <td>0.231134</td>\n",
       "      <td>0.204329</td>\n",
       "      <td>0.181352</td>\n",
       "      <td>0.200521</td>\n",
       "      <td>0.198221</td>\n",
       "      <td>0.109459</td>\n",
       "      <td>0.203092</td>\n",
       "      <td>0.229055</td>\n",
       "      <td>0.240328</td>\n",
       "      <td>0.232985</td>\n",
       "    </tr>\n",
       "    <tr>\n",
       "      <th>min</th>\n",
       "      <td>1.000000</td>\n",
       "      <td>1.000000</td>\n",
       "      <td>0.000000</td>\n",
       "      <td>0.000000</td>\n",
       "      <td>0.000000</td>\n",
       "      <td>0.000000</td>\n",
       "      <td>0.000000</td>\n",
       "      <td>0.000000</td>\n",
       "      <td>0.000000</td>\n",
       "      <td>0.000000</td>\n",
       "      <td>...</td>\n",
       "      <td>0.000000</td>\n",
       "      <td>0.000000</td>\n",
       "      <td>0.000000</td>\n",
       "      <td>0.000000</td>\n",
       "      <td>0.000000</td>\n",
       "      <td>0.000000</td>\n",
       "      <td>0.000000</td>\n",
       "      <td>0.000000</td>\n",
       "      <td>0.000000</td>\n",
       "      <td>0.000000</td>\n",
       "    </tr>\n",
       "    <tr>\n",
       "      <th>25%</th>\n",
       "      <td>12.000000</td>\n",
       "      <td>3.000000</td>\n",
       "      <td>0.010000</td>\n",
       "      <td>0.350000</td>\n",
       "      <td>0.020000</td>\n",
       "      <td>0.630000</td>\n",
       "      <td>0.040000</td>\n",
       "      <td>0.010000</td>\n",
       "      <td>0.340000</td>\n",
       "      <td>0.410000</td>\n",
       "      <td>...</td>\n",
       "      <td>0.060000</td>\n",
       "      <td>0.470000</td>\n",
       "      <td>0.420000</td>\n",
       "      <td>0.520000</td>\n",
       "      <td>0.560000</td>\n",
       "      <td>0.020000</td>\n",
       "      <td>0.100000</td>\n",
       "      <td>0.020000</td>\n",
       "      <td>0.000000</td>\n",
       "      <td>0.070000</td>\n",
       "    </tr>\n",
       "    <tr>\n",
       "      <th>50%</th>\n",
       "      <td>34.000000</td>\n",
       "      <td>5.000000</td>\n",
       "      <td>0.020000</td>\n",
       "      <td>0.440000</td>\n",
       "      <td>0.060000</td>\n",
       "      <td>0.850000</td>\n",
       "      <td>0.070000</td>\n",
       "      <td>0.040000</td>\n",
       "      <td>0.400000</td>\n",
       "      <td>0.480000</td>\n",
       "      <td>...</td>\n",
       "      <td>0.130000</td>\n",
       "      <td>0.630000</td>\n",
       "      <td>0.540000</td>\n",
       "      <td>0.670000</td>\n",
       "      <td>0.700000</td>\n",
       "      <td>0.040000</td>\n",
       "      <td>0.170000</td>\n",
       "      <td>0.070000</td>\n",
       "      <td>0.000000</td>\n",
       "      <td>0.150000</td>\n",
       "    </tr>\n",
       "    <tr>\n",
       "      <th>75%</th>\n",
       "      <td>42.000000</td>\n",
       "      <td>8.000000</td>\n",
       "      <td>0.050000</td>\n",
       "      <td>0.540000</td>\n",
       "      <td>0.230000</td>\n",
       "      <td>0.940000</td>\n",
       "      <td>0.170000</td>\n",
       "      <td>0.160000</td>\n",
       "      <td>0.470000</td>\n",
       "      <td>0.540000</td>\n",
       "      <td>...</td>\n",
       "      <td>0.280000</td>\n",
       "      <td>0.777500</td>\n",
       "      <td>0.660000</td>\n",
       "      <td>0.770000</td>\n",
       "      <td>0.790000</td>\n",
       "      <td>0.070000</td>\n",
       "      <td>0.280000</td>\n",
       "      <td>0.190000</td>\n",
       "      <td>0.000000</td>\n",
       "      <td>0.330000</td>\n",
       "    </tr>\n",
       "    <tr>\n",
       "      <th>max</th>\n",
       "      <td>56.000000</td>\n",
       "      <td>10.000000</td>\n",
       "      <td>1.000000</td>\n",
       "      <td>1.000000</td>\n",
       "      <td>1.000000</td>\n",
       "      <td>1.000000</td>\n",
       "      <td>1.000000</td>\n",
       "      <td>1.000000</td>\n",
       "      <td>1.000000</td>\n",
       "      <td>1.000000</td>\n",
       "      <td>...</td>\n",
       "      <td>1.000000</td>\n",
       "      <td>1.000000</td>\n",
       "      <td>1.000000</td>\n",
       "      <td>1.000000</td>\n",
       "      <td>1.000000</td>\n",
       "      <td>1.000000</td>\n",
       "      <td>1.000000</td>\n",
       "      <td>1.000000</td>\n",
       "      <td>1.000000</td>\n",
       "      <td>1.000000</td>\n",
       "    </tr>\n",
       "  </tbody>\n",
       "</table>\n",
       "<p>8 rows × 102 columns</p>\n",
       "</div>"
      ],
      "text/plain": [
       "             state         fold   population  householdsize  racepctblack  \\\n",
       "count  1994.000000  1994.000000  1994.000000    1994.000000   1994.000000   \n",
       "mean     28.683551     5.493982     0.057593       0.463395      0.179629   \n",
       "std      16.397553     2.873694     0.126906       0.163717      0.253442   \n",
       "min       1.000000     1.000000     0.000000       0.000000      0.000000   \n",
       "25%      12.000000     3.000000     0.010000       0.350000      0.020000   \n",
       "50%      34.000000     5.000000     0.020000       0.440000      0.060000   \n",
       "75%      42.000000     8.000000     0.050000       0.540000      0.230000   \n",
       "max      56.000000    10.000000     1.000000       1.000000      1.000000   \n",
       "\n",
       "       racePctWhite  racePctAsian  racePctHisp  agePct12t21  agePct12t29  ...  \\\n",
       "count   1994.000000   1994.000000  1994.000000  1994.000000  1994.000000  ...   \n",
       "mean       0.753716      0.153681     0.144022     0.424218     0.493867  ...   \n",
       "std        0.244039      0.208877     0.232492     0.155196     0.143564  ...   \n",
       "min        0.000000      0.000000     0.000000     0.000000     0.000000  ...   \n",
       "25%        0.630000      0.040000     0.010000     0.340000     0.410000  ...   \n",
       "50%        0.850000      0.070000     0.040000     0.400000     0.480000  ...   \n",
       "75%        0.940000      0.170000     0.160000     0.470000     0.540000  ...   \n",
       "max        1.000000      1.000000     1.000000     1.000000     1.000000  ...   \n",
       "\n",
       "       PctForeignBorn  PctBornSameState  PctSameHouse85  PctSameCity85  \\\n",
       "count     1994.000000       1994.000000     1994.000000    1994.000000   \n",
       "mean         0.215552          0.608892        0.535050       0.626424   \n",
       "std          0.231134          0.204329        0.181352       0.200521   \n",
       "min          0.000000          0.000000        0.000000       0.000000   \n",
       "25%          0.060000          0.470000        0.420000       0.520000   \n",
       "50%          0.130000          0.630000        0.540000       0.670000   \n",
       "75%          0.280000          0.777500        0.660000       0.770000   \n",
       "max          1.000000          1.000000        1.000000       1.000000   \n",
       "\n",
       "       PctSameState85     LandArea      PopDens  PctUsePubTrans  \\\n",
       "count     1994.000000  1994.000000  1994.000000     1994.000000   \n",
       "mean         0.651530     0.065231     0.232854        0.161685   \n",
       "std          0.198221     0.109459     0.203092        0.229055   \n",
       "min          0.000000     0.000000     0.000000        0.000000   \n",
       "25%          0.560000     0.020000     0.100000        0.020000   \n",
       "50%          0.700000     0.040000     0.170000        0.070000   \n",
       "75%          0.790000     0.070000     0.280000        0.190000   \n",
       "max          1.000000     1.000000     1.000000        1.000000   \n",
       "\n",
       "       LemasPctOfficDrugUn  ViolentCrimesPerPop  \n",
       "count          1994.000000          1994.000000  \n",
       "mean              0.094052             0.237979  \n",
       "std               0.240328             0.232985  \n",
       "min               0.000000             0.000000  \n",
       "25%               0.000000             0.070000  \n",
       "50%               0.000000             0.150000  \n",
       "75%               0.000000             0.330000  \n",
       "max               1.000000             1.000000  \n",
       "\n",
       "[8 rows x 102 columns]"
      ]
     },
     "execution_count": 5,
     "metadata": {},
     "output_type": "execute_result"
    }
   ],
   "source": [
    "ds.describe()"
   ]
  },
  {
   "cell_type": "code",
   "execution_count": 6,
   "metadata": {},
   "outputs": [],
   "source": [
    "ds_corr=ds.corr()"
   ]
  },
  {
   "cell_type": "code",
   "execution_count": 7,
   "metadata": {},
   "outputs": [
    {
     "data": {
      "text/html": [
       "<div>\n",
       "<style scoped>\n",
       "    .dataframe tbody tr th:only-of-type {\n",
       "        vertical-align: middle;\n",
       "    }\n",
       "\n",
       "    .dataframe tbody tr th {\n",
       "        vertical-align: top;\n",
       "    }\n",
       "\n",
       "    .dataframe thead th {\n",
       "        text-align: right;\n",
       "    }\n",
       "</style>\n",
       "<table border=\"1\" class=\"dataframe\">\n",
       "  <thead>\n",
       "    <tr style=\"text-align: right;\">\n",
       "      <th></th>\n",
       "      <th>state</th>\n",
       "      <th>fold</th>\n",
       "      <th>population</th>\n",
       "      <th>householdsize</th>\n",
       "      <th>racepctblack</th>\n",
       "      <th>racePctWhite</th>\n",
       "      <th>racePctAsian</th>\n",
       "      <th>racePctHisp</th>\n",
       "      <th>agePct12t21</th>\n",
       "      <th>agePct12t29</th>\n",
       "      <th>...</th>\n",
       "      <th>PctForeignBorn</th>\n",
       "      <th>PctBornSameState</th>\n",
       "      <th>PctSameHouse85</th>\n",
       "      <th>PctSameCity85</th>\n",
       "      <th>PctSameState85</th>\n",
       "      <th>LandArea</th>\n",
       "      <th>PopDens</th>\n",
       "      <th>PctUsePubTrans</th>\n",
       "      <th>LemasPctOfficDrugUn</th>\n",
       "      <th>ViolentCrimesPerPop</th>\n",
       "    </tr>\n",
       "  </thead>\n",
       "  <tbody>\n",
       "    <tr>\n",
       "      <th>state</th>\n",
       "      <td>1.000000</td>\n",
       "      <td>-0.002857</td>\n",
       "      <td>-0.079569</td>\n",
       "      <td>-0.049505</td>\n",
       "      <td>-0.046154</td>\n",
       "      <td>0.213990</td>\n",
       "      <td>-0.318602</td>\n",
       "      <td>-0.210841</td>\n",
       "      <td>0.100622</td>\n",
       "      <td>0.036950</td>\n",
       "      <td>...</td>\n",
       "      <td>-0.356149</td>\n",
       "      <td>0.340611</td>\n",
       "      <td>0.151854</td>\n",
       "      <td>0.062087</td>\n",
       "      <td>0.127616</td>\n",
       "      <td>-0.040350</td>\n",
       "      <td>-0.137940</td>\n",
       "      <td>-0.021431</td>\n",
       "      <td>-0.075305</td>\n",
       "      <td>-0.211398</td>\n",
       "    </tr>\n",
       "    <tr>\n",
       "      <th>fold</th>\n",
       "      <td>-0.002857</td>\n",
       "      <td>1.000000</td>\n",
       "      <td>-0.007552</td>\n",
       "      <td>0.035488</td>\n",
       "      <td>0.003524</td>\n",
       "      <td>-0.004436</td>\n",
       "      <td>-0.001317</td>\n",
       "      <td>0.000915</td>\n",
       "      <td>-0.000151</td>\n",
       "      <td>0.007080</td>\n",
       "      <td>...</td>\n",
       "      <td>-0.000195</td>\n",
       "      <td>-0.025403</td>\n",
       "      <td>-0.021956</td>\n",
       "      <td>-0.035202</td>\n",
       "      <td>-0.027938</td>\n",
       "      <td>0.017846</td>\n",
       "      <td>-0.012570</td>\n",
       "      <td>-0.000541</td>\n",
       "      <td>-0.023780</td>\n",
       "      <td>-0.032577</td>\n",
       "    </tr>\n",
       "    <tr>\n",
       "      <th>population</th>\n",
       "      <td>-0.079569</td>\n",
       "      <td>-0.007552</td>\n",
       "      <td>1.000000</td>\n",
       "      <td>-0.046148</td>\n",
       "      <td>0.231178</td>\n",
       "      <td>-0.300845</td>\n",
       "      <td>0.181603</td>\n",
       "      <td>0.156218</td>\n",
       "      <td>0.006368</td>\n",
       "      <td>0.130344</td>\n",
       "      <td>...</td>\n",
       "      <td>0.172731</td>\n",
       "      <td>-0.125133</td>\n",
       "      <td>-0.123691</td>\n",
       "      <td>0.001610</td>\n",
       "      <td>-0.089638</td>\n",
       "      <td>0.713652</td>\n",
       "      <td>0.231897</td>\n",
       "      <td>0.270356</td>\n",
       "      <td>0.466352</td>\n",
       "      <td>0.367157</td>\n",
       "    </tr>\n",
       "    <tr>\n",
       "      <th>householdsize</th>\n",
       "      <td>-0.049505</td>\n",
       "      <td>0.035488</td>\n",
       "      <td>-0.046148</td>\n",
       "      <td>1.000000</td>\n",
       "      <td>-0.067109</td>\n",
       "      <td>-0.235907</td>\n",
       "      <td>0.201996</td>\n",
       "      <td>0.468659</td>\n",
       "      <td>0.520461</td>\n",
       "      <td>0.367338</td>\n",
       "      <td>...</td>\n",
       "      <td>0.311107</td>\n",
       "      <td>-0.049253</td>\n",
       "      <td>-0.057842</td>\n",
       "      <td>-0.103109</td>\n",
       "      <td>-0.003277</td>\n",
       "      <td>-0.015078</td>\n",
       "      <td>-0.004072</td>\n",
       "      <td>-0.051506</td>\n",
       "      <td>-0.094368</td>\n",
       "      <td>-0.034923</td>\n",
       "    </tr>\n",
       "    <tr>\n",
       "      <th>racepctblack</th>\n",
       "      <td>-0.046154</td>\n",
       "      <td>0.003524</td>\n",
       "      <td>0.231178</td>\n",
       "      <td>-0.067109</td>\n",
       "      <td>1.000000</td>\n",
       "      <td>-0.794389</td>\n",
       "      <td>-0.106738</td>\n",
       "      <td>-0.066581</td>\n",
       "      <td>0.122338</td>\n",
       "      <td>0.153475</td>\n",
       "      <td>...</td>\n",
       "      <td>-0.098114</td>\n",
       "      <td>0.093494</td>\n",
       "      <td>-0.045646</td>\n",
       "      <td>0.056358</td>\n",
       "      <td>-0.002894</td>\n",
       "      <td>0.149758</td>\n",
       "      <td>0.095053</td>\n",
       "      <td>0.147023</td>\n",
       "      <td>0.260793</td>\n",
       "      <td>0.631264</td>\n",
       "    </tr>\n",
       "    <tr>\n",
       "      <th>...</th>\n",
       "      <td>...</td>\n",
       "      <td>...</td>\n",
       "      <td>...</td>\n",
       "      <td>...</td>\n",
       "      <td>...</td>\n",
       "      <td>...</td>\n",
       "      <td>...</td>\n",
       "      <td>...</td>\n",
       "      <td>...</td>\n",
       "      <td>...</td>\n",
       "      <td>...</td>\n",
       "      <td>...</td>\n",
       "      <td>...</td>\n",
       "      <td>...</td>\n",
       "      <td>...</td>\n",
       "      <td>...</td>\n",
       "      <td>...</td>\n",
       "      <td>...</td>\n",
       "      <td>...</td>\n",
       "      <td>...</td>\n",
       "      <td>...</td>\n",
       "    </tr>\n",
       "    <tr>\n",
       "      <th>LandArea</th>\n",
       "      <td>-0.040350</td>\n",
       "      <td>0.017846</td>\n",
       "      <td>0.713652</td>\n",
       "      <td>-0.015078</td>\n",
       "      <td>0.149758</td>\n",
       "      <td>-0.131389</td>\n",
       "      <td>-0.001084</td>\n",
       "      <td>0.011634</td>\n",
       "      <td>0.025736</td>\n",
       "      <td>0.062476</td>\n",
       "      <td>...</td>\n",
       "      <td>-0.048845</td>\n",
       "      <td>-0.069273</td>\n",
       "      <td>-0.116901</td>\n",
       "      <td>-0.062989</td>\n",
       "      <td>-0.104403</td>\n",
       "      <td>1.000000</td>\n",
       "      <td>-0.170856</td>\n",
       "      <td>0.007699</td>\n",
       "      <td>0.299632</td>\n",
       "      <td>0.196800</td>\n",
       "    </tr>\n",
       "    <tr>\n",
       "      <th>PopDens</th>\n",
       "      <td>-0.137940</td>\n",
       "      <td>-0.012570</td>\n",
       "      <td>0.231897</td>\n",
       "      <td>-0.004072</td>\n",
       "      <td>0.095053</td>\n",
       "      <td>-0.337458</td>\n",
       "      <td>0.389944</td>\n",
       "      <td>0.370103</td>\n",
       "      <td>-0.095749</td>\n",
       "      <td>0.119725</td>\n",
       "      <td>...</td>\n",
       "      <td>0.614772</td>\n",
       "      <td>-0.221341</td>\n",
       "      <td>0.020701</td>\n",
       "      <td>0.118082</td>\n",
       "      <td>-0.012166</td>\n",
       "      <td>-0.170856</td>\n",
       "      <td>1.000000</td>\n",
       "      <td>0.587804</td>\n",
       "      <td>0.228084</td>\n",
       "      <td>0.281390</td>\n",
       "    </tr>\n",
       "    <tr>\n",
       "      <th>PctUsePubTrans</th>\n",
       "      <td>-0.021431</td>\n",
       "      <td>-0.000541</td>\n",
       "      <td>0.270356</td>\n",
       "      <td>-0.051506</td>\n",
       "      <td>0.147023</td>\n",
       "      <td>-0.215636</td>\n",
       "      <td>0.296921</td>\n",
       "      <td>0.078366</td>\n",
       "      <td>-0.173279</td>\n",
       "      <td>-0.023507</td>\n",
       "      <td>...</td>\n",
       "      <td>0.401711</td>\n",
       "      <td>-0.175459</td>\n",
       "      <td>0.192367</td>\n",
       "      <td>0.081260</td>\n",
       "      <td>-0.042424</td>\n",
       "      <td>0.007699</td>\n",
       "      <td>0.587804</td>\n",
       "      <td>1.000000</td>\n",
       "      <td>0.206644</td>\n",
       "      <td>0.153829</td>\n",
       "    </tr>\n",
       "    <tr>\n",
       "      <th>LemasPctOfficDrugUn</th>\n",
       "      <td>-0.075305</td>\n",
       "      <td>-0.023780</td>\n",
       "      <td>0.466352</td>\n",
       "      <td>-0.094368</td>\n",
       "      <td>0.260793</td>\n",
       "      <td>-0.276234</td>\n",
       "      <td>0.101888</td>\n",
       "      <td>0.125353</td>\n",
       "      <td>0.001301</td>\n",
       "      <td>0.117290</td>\n",
       "      <td>...</td>\n",
       "      <td>0.170946</td>\n",
       "      <td>-0.134230</td>\n",
       "      <td>-0.090249</td>\n",
       "      <td>0.008227</td>\n",
       "      <td>-0.107289</td>\n",
       "      <td>0.299632</td>\n",
       "      <td>0.228084</td>\n",
       "      <td>0.206644</td>\n",
       "      <td>1.000000</td>\n",
       "      <td>0.348627</td>\n",
       "    </tr>\n",
       "    <tr>\n",
       "      <th>ViolentCrimesPerPop</th>\n",
       "      <td>-0.211398</td>\n",
       "      <td>-0.032577</td>\n",
       "      <td>0.367157</td>\n",
       "      <td>-0.034923</td>\n",
       "      <td>0.631264</td>\n",
       "      <td>-0.684770</td>\n",
       "      <td>0.037622</td>\n",
       "      <td>0.293050</td>\n",
       "      <td>0.060477</td>\n",
       "      <td>0.153357</td>\n",
       "      <td>...</td>\n",
       "      <td>0.194390</td>\n",
       "      <td>-0.077159</td>\n",
       "      <td>-0.155388</td>\n",
       "      <td>0.075558</td>\n",
       "      <td>-0.019459</td>\n",
       "      <td>0.196800</td>\n",
       "      <td>0.281390</td>\n",
       "      <td>0.153829</td>\n",
       "      <td>0.348627</td>\n",
       "      <td>1.000000</td>\n",
       "    </tr>\n",
       "  </tbody>\n",
       "</table>\n",
       "<p>102 rows × 102 columns</p>\n",
       "</div>"
      ],
      "text/plain": [
       "                        state      fold  population  householdsize  \\\n",
       "state                1.000000 -0.002857   -0.079569      -0.049505   \n",
       "fold                -0.002857  1.000000   -0.007552       0.035488   \n",
       "population          -0.079569 -0.007552    1.000000      -0.046148   \n",
       "householdsize       -0.049505  0.035488   -0.046148       1.000000   \n",
       "racepctblack        -0.046154  0.003524    0.231178      -0.067109   \n",
       "...                       ...       ...         ...            ...   \n",
       "LandArea            -0.040350  0.017846    0.713652      -0.015078   \n",
       "PopDens             -0.137940 -0.012570    0.231897      -0.004072   \n",
       "PctUsePubTrans      -0.021431 -0.000541    0.270356      -0.051506   \n",
       "LemasPctOfficDrugUn -0.075305 -0.023780    0.466352      -0.094368   \n",
       "ViolentCrimesPerPop -0.211398 -0.032577    0.367157      -0.034923   \n",
       "\n",
       "                     racepctblack  racePctWhite  racePctAsian  racePctHisp  \\\n",
       "state                   -0.046154      0.213990     -0.318602    -0.210841   \n",
       "fold                     0.003524     -0.004436     -0.001317     0.000915   \n",
       "population               0.231178     -0.300845      0.181603     0.156218   \n",
       "householdsize           -0.067109     -0.235907      0.201996     0.468659   \n",
       "racepctblack             1.000000     -0.794389     -0.106738    -0.066581   \n",
       "...                           ...           ...           ...          ...   \n",
       "LandArea                 0.149758     -0.131389     -0.001084     0.011634   \n",
       "PopDens                  0.095053     -0.337458      0.389944     0.370103   \n",
       "PctUsePubTrans           0.147023     -0.215636      0.296921     0.078366   \n",
       "LemasPctOfficDrugUn      0.260793     -0.276234      0.101888     0.125353   \n",
       "ViolentCrimesPerPop      0.631264     -0.684770      0.037622     0.293050   \n",
       "\n",
       "                     agePct12t21  agePct12t29  ...  PctForeignBorn  \\\n",
       "state                   0.100622     0.036950  ...       -0.356149   \n",
       "fold                   -0.000151     0.007080  ...       -0.000195   \n",
       "population              0.006368     0.130344  ...        0.172731   \n",
       "householdsize           0.520461     0.367338  ...        0.311107   \n",
       "racepctblack            0.122338     0.153475  ...       -0.098114   \n",
       "...                          ...          ...  ...             ...   \n",
       "LandArea                0.025736     0.062476  ...       -0.048845   \n",
       "PopDens                -0.095749     0.119725  ...        0.614772   \n",
       "PctUsePubTrans         -0.173279    -0.023507  ...        0.401711   \n",
       "LemasPctOfficDrugUn     0.001301     0.117290  ...        0.170946   \n",
       "ViolentCrimesPerPop     0.060477     0.153357  ...        0.194390   \n",
       "\n",
       "                     PctBornSameState  PctSameHouse85  PctSameCity85  \\\n",
       "state                        0.340611        0.151854       0.062087   \n",
       "fold                        -0.025403       -0.021956      -0.035202   \n",
       "population                  -0.125133       -0.123691       0.001610   \n",
       "householdsize               -0.049253       -0.057842      -0.103109   \n",
       "racepctblack                 0.093494       -0.045646       0.056358   \n",
       "...                               ...             ...            ...   \n",
       "LandArea                    -0.069273       -0.116901      -0.062989   \n",
       "PopDens                     -0.221341        0.020701       0.118082   \n",
       "PctUsePubTrans              -0.175459        0.192367       0.081260   \n",
       "LemasPctOfficDrugUn         -0.134230       -0.090249       0.008227   \n",
       "ViolentCrimesPerPop         -0.077159       -0.155388       0.075558   \n",
       "\n",
       "                     PctSameState85  LandArea   PopDens  PctUsePubTrans  \\\n",
       "state                      0.127616 -0.040350 -0.137940       -0.021431   \n",
       "fold                      -0.027938  0.017846 -0.012570       -0.000541   \n",
       "population                -0.089638  0.713652  0.231897        0.270356   \n",
       "householdsize             -0.003277 -0.015078 -0.004072       -0.051506   \n",
       "racepctblack              -0.002894  0.149758  0.095053        0.147023   \n",
       "...                             ...       ...       ...             ...   \n",
       "LandArea                  -0.104403  1.000000 -0.170856        0.007699   \n",
       "PopDens                   -0.012166 -0.170856  1.000000        0.587804   \n",
       "PctUsePubTrans            -0.042424  0.007699  0.587804        1.000000   \n",
       "LemasPctOfficDrugUn       -0.107289  0.299632  0.228084        0.206644   \n",
       "ViolentCrimesPerPop       -0.019459  0.196800  0.281390        0.153829   \n",
       "\n",
       "                     LemasPctOfficDrugUn  ViolentCrimesPerPop  \n",
       "state                          -0.075305            -0.211398  \n",
       "fold                           -0.023780            -0.032577  \n",
       "population                      0.466352             0.367157  \n",
       "householdsize                  -0.094368            -0.034923  \n",
       "racepctblack                    0.260793             0.631264  \n",
       "...                                  ...                  ...  \n",
       "LandArea                        0.299632             0.196800  \n",
       "PopDens                         0.228084             0.281390  \n",
       "PctUsePubTrans                  0.206644             0.153829  \n",
       "LemasPctOfficDrugUn             1.000000             0.348627  \n",
       "ViolentCrimesPerPop             0.348627             1.000000  \n",
       "\n",
       "[102 rows x 102 columns]"
      ]
     },
     "execution_count": 7,
     "metadata": {},
     "output_type": "execute_result"
    }
   ],
   "source": [
    "ds_corr"
   ]
  },
  {
   "cell_type": "code",
   "execution_count": 8,
   "metadata": {},
   "outputs": [
    {
     "data": {
      "text/plain": [
       "state                 -0.211398\n",
       "fold                  -0.032577\n",
       "population             0.367157\n",
       "householdsize         -0.034923\n",
       "racepctblack           0.631264\n",
       "                         ...   \n",
       "LandArea               0.196800\n",
       "PopDens                0.281390\n",
       "PctUsePubTrans         0.153829\n",
       "LemasPctOfficDrugUn    0.348627\n",
       "ViolentCrimesPerPop    1.000000\n",
       "Name: ViolentCrimesPerPop, Length: 102, dtype: float64"
      ]
     },
     "execution_count": 8,
     "metadata": {},
     "output_type": "execute_result"
    }
   ],
   "source": [
    "ds_corr['ViolentCrimesPerPop']"
   ]
  },
  {
   "cell_type": "code",
   "execution_count": 9,
   "metadata": {},
   "outputs": [],
   "source": [
    "list=np.where(ds_corr['ViolentCrimesPerPop']>=0.50)   #there are a total of 128 attributes,by considering attributes having a correlation of 0.5 or greater with are target variable, we can reduce the set of attributes to be given to the model."
   ]
  },
  {
   "cell_type": "code",
   "execution_count": 10,
   "metadata": {},
   "outputs": [
    {
     "data": {
      "text/plain": [
       "(array([  4,  19,  29,  33,  39,  41,  42,  51, 101], dtype=int64),)"
      ]
     },
     "execution_count": 10,
     "metadata": {},
     "output_type": "execute_result"
    }
   ],
   "source": [
    "list"
   ]
  },
  {
   "cell_type": "code",
   "execution_count": 11,
   "metadata": {},
   "outputs": [
    {
     "data": {
      "text/plain": [
       "state                 -0.046154\n",
       "fold                   0.003524\n",
       "population             0.231178\n",
       "householdsize         -0.067109\n",
       "racepctblack           1.000000\n",
       "                         ...   \n",
       "LandArea               0.149758\n",
       "PopDens                0.095053\n",
       "PctUsePubTrans         0.147023\n",
       "LemasPctOfficDrugUn    0.260793\n",
       "ViolentCrimesPerPop    0.631264\n",
       "Name: racepctblack, Length: 102, dtype: float64"
      ]
     },
     "execution_count": 11,
     "metadata": {},
     "output_type": "execute_result"
    }
   ],
   "source": [
    "ds_corr.iloc[4]"
   ]
  },
  {
   "cell_type": "code",
   "execution_count": 12,
   "metadata": {},
   "outputs": [
    {
     "data": {
      "text/plain": [
       "state                 -0.102243\n",
       "fold                  -0.043075\n",
       "population             0.177172\n",
       "householdsize          0.115204\n",
       "racepctblack           0.444933\n",
       "                         ...   \n",
       "LandArea               0.030456\n",
       "PopDens                0.197055\n",
       "PctUsePubTrans        -0.016438\n",
       "LemasPctOfficDrugUn    0.176036\n",
       "ViolentCrimesPerPop    0.574665\n",
       "Name: pctWPubAsst, Length: 102, dtype: float64"
      ]
     },
     "execution_count": 12,
     "metadata": {},
     "output_type": "execute_result"
    }
   ],
   "source": [
    "ds_corr.iloc[19]"
   ]
  },
  {
   "cell_type": "code",
   "execution_count": 13,
   "metadata": {},
   "outputs": [
    {
     "data": {
      "text/plain": [
       "state                  0.034205\n",
       "fold                  -0.040151\n",
       "population             0.162004\n",
       "householdsize          0.055085\n",
       "racepctblack           0.490241\n",
       "                         ...   \n",
       "LandArea               0.066140\n",
       "PopDens                0.065009\n",
       "PctUsePubTrans        -0.108993\n",
       "LemasPctOfficDrugUn    0.170169\n",
       "ViolentCrimesPerPop    0.521877\n",
       "Name: PctPopUnderPov, Length: 102, dtype: float64"
      ]
     },
     "execution_count": 13,
     "metadata": {},
     "output_type": "execute_result"
    }
   ],
   "source": [
    "ds_corr.iloc[29]"
   ]
  },
  {
   "cell_type": "code",
   "execution_count": 14,
   "metadata": {},
   "outputs": [
    {
     "data": {
      "text/plain": [
       "state                 -0.038888\n",
       "fold                  -0.034699\n",
       "population             0.145247\n",
       "householdsize          0.143811\n",
       "racepctblack           0.388319\n",
       "                         ...   \n",
       "LandArea               0.045004\n",
       "PopDens                0.172615\n",
       "PctUsePubTrans        -0.016950\n",
       "LemasPctOfficDrugUn    0.170034\n",
       "ViolentCrimesPerPop    0.504235\n",
       "Name: PctUnemployed, Length: 102, dtype: float64"
      ]
     },
     "execution_count": 14,
     "metadata": {},
     "output_type": "execute_result"
    }
   ],
   "source": [
    "ds_corr.iloc[33]"
   ]
  },
  {
   "cell_type": "code",
   "execution_count": 15,
   "metadata": {},
   "outputs": [
    {
     "data": {
      "text/plain": [
       "state                 -0.104680\n",
       "fold                  -0.024665\n",
       "population             0.232603\n",
       "householdsize         -0.449461\n",
       "racepctblack           0.403862\n",
       "                         ...   \n",
       "LandArea               0.147940\n",
       "PopDens                0.091909\n",
       "PctUsePubTrans        -0.078334\n",
       "LemasPctOfficDrugUn    0.237638\n",
       "ViolentCrimesPerPop    0.525407\n",
       "Name: MalePctDivorce, Length: 102, dtype: float64"
      ]
     },
     "execution_count": 15,
     "metadata": {},
     "output_type": "execute_result"
    }
   ],
   "source": [
    "ds_corr.iloc[39]"
   ]
  },
  {
   "cell_type": "code",
   "execution_count": 16,
   "metadata": {},
   "outputs": [
    {
     "data": {
      "text/plain": [
       "state                 -0.182710\n",
       "fold                  -0.017298\n",
       "population             0.258529\n",
       "householdsize         -0.349128\n",
       "racepctblack           0.429002\n",
       "                         ...   \n",
       "LandArea               0.143642\n",
       "PopDens                0.167487\n",
       "PctUsePubTrans        -0.056479\n",
       "LemasPctOfficDrugUn    0.253158\n",
       "ViolentCrimesPerPop    0.556032\n",
       "Name: FemalePctDiv, Length: 102, dtype: float64"
      ]
     },
     "execution_count": 16,
     "metadata": {},
     "output_type": "execute_result"
    }
   ],
   "source": [
    "ds_corr.iloc[41]"
   ]
  },
  {
   "cell_type": "code",
   "execution_count": 17,
   "metadata": {},
   "outputs": [
    {
     "data": {
      "text/plain": [
       "state                 -0.145359\n",
       "fold                  -0.021101\n",
       "population             0.248099\n",
       "householdsize         -0.409331\n",
       "racepctblack           0.432427\n",
       "                         ...   \n",
       "LandArea               0.144667\n",
       "PopDens                0.133427\n",
       "PctUsePubTrans        -0.067044\n",
       "LemasPctOfficDrugUn    0.248832\n",
       "ViolentCrimesPerPop    0.552777\n",
       "Name: TotalPctDiv, Length: 102, dtype: float64"
      ]
     },
     "execution_count": 17,
     "metadata": {},
     "output_type": "execute_result"
    }
   ],
   "source": [
    "ds_corr.iloc[42]"
   ]
  },
  {
   "cell_type": "code",
   "execution_count": 18,
   "metadata": {},
   "outputs": [
    {
     "data": {
      "text/plain": [
       "state                 -0.115161\n",
       "fold                  -0.009070\n",
       "population             0.332564\n",
       "householdsize          0.020711\n",
       "racepctblack           0.810700\n",
       "                         ...   \n",
       "LandArea               0.139561\n",
       "PopDens                0.322525\n",
       "PctUsePubTrans         0.217844\n",
       "LemasPctOfficDrugUn    0.350191\n",
       "ViolentCrimesPerPop    0.737957\n",
       "Name: PctIlleg, Length: 102, dtype: float64"
      ]
     },
     "execution_count": 18,
     "metadata": {},
     "output_type": "execute_result"
    }
   ],
   "source": [
    "ds_corr.iloc[51]"
   ]
  },
  {
   "cell_type": "code",
   "execution_count": 19,
   "metadata": {},
   "outputs": [
    {
     "data": {
      "text/plain": [
       "state                 -0.211398\n",
       "fold                  -0.032577\n",
       "population             0.367157\n",
       "householdsize         -0.034923\n",
       "racepctblack           0.631264\n",
       "                         ...   \n",
       "LandArea               0.196800\n",
       "PopDens                0.281390\n",
       "PctUsePubTrans         0.153829\n",
       "LemasPctOfficDrugUn    0.348627\n",
       "ViolentCrimesPerPop    1.000000\n",
       "Name: ViolentCrimesPerPop, Length: 102, dtype: float64"
      ]
     },
     "execution_count": 19,
     "metadata": {},
     "output_type": "execute_result"
    }
   ],
   "source": [
    "ds_corr.iloc[101]"
   ]
  },
  {
   "cell_type": "code",
   "execution_count": 20,
   "metadata": {},
   "outputs": [
    {
     "data": {
      "text/plain": [
       "['racepctblack',\n",
       " 'pctWPubAsst',\n",
       " 'PctPopUnderPov',\n",
       " 'PctUnemployed',\n",
       " 'MalePctDivorce',\n",
       " 'FemalePctDiv',\n",
       " 'TotalPctDiv',\n",
       " 'PctIlleg',\n",
       " 'ViolentCrimesPerPop']"
      ]
     },
     "execution_count": 20,
     "metadata": {},
     "output_type": "execute_result"
    }
   ],
   "source": [
    "list1=['racepctblack','pctWPubAsst','PctPopUnderPov','PctUnemployed','MalePctDivorce','FemalePctDiv','TotalPctDiv','PctIlleg','ViolentCrimesPerPop' ]\n",
    "list1"
   ]
  },
  {
   "cell_type": "code",
   "execution_count": 21,
   "metadata": {},
   "outputs": [],
   "source": [
    "def select_columns(data_frame, column_names):\n",
    "    new_frame = data_frame.loc[:, column_names]\n",
    "    return new_frame"
   ]
  },
  {
   "cell_type": "code",
   "execution_count": 22,
   "metadata": {},
   "outputs": [
    {
     "data": {
      "text/html": [
       "<div>\n",
       "<style scoped>\n",
       "    .dataframe tbody tr th:only-of-type {\n",
       "        vertical-align: middle;\n",
       "    }\n",
       "\n",
       "    .dataframe tbody tr th {\n",
       "        vertical-align: top;\n",
       "    }\n",
       "\n",
       "    .dataframe thead th {\n",
       "        text-align: right;\n",
       "    }\n",
       "</style>\n",
       "<table border=\"1\" class=\"dataframe\">\n",
       "  <thead>\n",
       "    <tr style=\"text-align: right;\">\n",
       "      <th></th>\n",
       "      <th>racepctblack</th>\n",
       "      <th>pctWPubAsst</th>\n",
       "      <th>PctPopUnderPov</th>\n",
       "      <th>PctUnemployed</th>\n",
       "      <th>MalePctDivorce</th>\n",
       "      <th>FemalePctDiv</th>\n",
       "      <th>TotalPctDiv</th>\n",
       "      <th>PctIlleg</th>\n",
       "      <th>ViolentCrimesPerPop</th>\n",
       "    </tr>\n",
       "  </thead>\n",
       "  <tbody>\n",
       "    <tr>\n",
       "      <th>0</th>\n",
       "      <td>0.02</td>\n",
       "      <td>0.15</td>\n",
       "      <td>0.19</td>\n",
       "      <td>0.27</td>\n",
       "      <td>0.68</td>\n",
       "      <td>0.75</td>\n",
       "      <td>0.75</td>\n",
       "      <td>0.14</td>\n",
       "      <td>0.20</td>\n",
       "    </tr>\n",
       "    <tr>\n",
       "      <th>1</th>\n",
       "      <td>0.12</td>\n",
       "      <td>0.29</td>\n",
       "      <td>0.24</td>\n",
       "      <td>0.27</td>\n",
       "      <td>1.00</td>\n",
       "      <td>0.91</td>\n",
       "      <td>1.00</td>\n",
       "      <td>0.24</td>\n",
       "      <td>0.67</td>\n",
       "    </tr>\n",
       "    <tr>\n",
       "      <th>2</th>\n",
       "      <td>0.49</td>\n",
       "      <td>0.40</td>\n",
       "      <td>0.27</td>\n",
       "      <td>0.36</td>\n",
       "      <td>0.63</td>\n",
       "      <td>0.71</td>\n",
       "      <td>0.70</td>\n",
       "      <td>0.46</td>\n",
       "      <td>0.43</td>\n",
       "    </tr>\n",
       "    <tr>\n",
       "      <th>3</th>\n",
       "      <td>1.00</td>\n",
       "      <td>0.20</td>\n",
       "      <td>0.10</td>\n",
       "      <td>0.33</td>\n",
       "      <td>0.34</td>\n",
       "      <td>0.49</td>\n",
       "      <td>0.44</td>\n",
       "      <td>0.33</td>\n",
       "      <td>0.12</td>\n",
       "    </tr>\n",
       "    <tr>\n",
       "      <th>4</th>\n",
       "      <td>0.02</td>\n",
       "      <td>0.11</td>\n",
       "      <td>0.06</td>\n",
       "      <td>0.12</td>\n",
       "      <td>0.22</td>\n",
       "      <td>0.20</td>\n",
       "      <td>0.21</td>\n",
       "      <td>0.06</td>\n",
       "      <td>0.03</td>\n",
       "    </tr>\n",
       "    <tr>\n",
       "      <th>...</th>\n",
       "      <td>...</td>\n",
       "      <td>...</td>\n",
       "      <td>...</td>\n",
       "      <td>...</td>\n",
       "      <td>...</td>\n",
       "      <td>...</td>\n",
       "      <td>...</td>\n",
       "      <td>...</td>\n",
       "      <td>...</td>\n",
       "    </tr>\n",
       "    <tr>\n",
       "      <th>1989</th>\n",
       "      <td>0.10</td>\n",
       "      <td>0.06</td>\n",
       "      <td>0.16</td>\n",
       "      <td>0.12</td>\n",
       "      <td>0.39</td>\n",
       "      <td>0.59</td>\n",
       "      <td>0.53</td>\n",
       "      <td>0.11</td>\n",
       "      <td>0.09</td>\n",
       "    </tr>\n",
       "    <tr>\n",
       "      <th>1990</th>\n",
       "      <td>0.46</td>\n",
       "      <td>0.37</td>\n",
       "      <td>0.32</td>\n",
       "      <td>0.24</td>\n",
       "      <td>0.42</td>\n",
       "      <td>0.56</td>\n",
       "      <td>0.48</td>\n",
       "      <td>0.42</td>\n",
       "      <td>0.45</td>\n",
       "    </tr>\n",
       "    <tr>\n",
       "      <th>1991</th>\n",
       "      <td>0.25</td>\n",
       "      <td>0.48</td>\n",
       "      <td>0.31</td>\n",
       "      <td>0.50</td>\n",
       "      <td>0.50</td>\n",
       "      <td>0.50</td>\n",
       "      <td>0.52</td>\n",
       "      <td>0.54</td>\n",
       "      <td>0.23</td>\n",
       "    </tr>\n",
       "    <tr>\n",
       "      <th>1992</th>\n",
       "      <td>0.06</td>\n",
       "      <td>0.24</td>\n",
       "      <td>0.16</td>\n",
       "      <td>0.37</td>\n",
       "      <td>0.32</td>\n",
       "      <td>0.30</td>\n",
       "      <td>0.32</td>\n",
       "      <td>0.17</td>\n",
       "      <td>0.19</td>\n",
       "    </tr>\n",
       "    <tr>\n",
       "      <th>1993</th>\n",
       "      <td>0.14</td>\n",
       "      <td>0.47</td>\n",
       "      <td>0.35</td>\n",
       "      <td>0.47</td>\n",
       "      <td>0.49</td>\n",
       "      <td>0.60</td>\n",
       "      <td>0.57</td>\n",
       "      <td>0.43</td>\n",
       "      <td>0.48</td>\n",
       "    </tr>\n",
       "  </tbody>\n",
       "</table>\n",
       "<p>1994 rows × 9 columns</p>\n",
       "</div>"
      ],
      "text/plain": [
       "      racepctblack  pctWPubAsst  PctPopUnderPov  PctUnemployed  \\\n",
       "0             0.02         0.15            0.19           0.27   \n",
       "1             0.12         0.29            0.24           0.27   \n",
       "2             0.49         0.40            0.27           0.36   \n",
       "3             1.00         0.20            0.10           0.33   \n",
       "4             0.02         0.11            0.06           0.12   \n",
       "...            ...          ...             ...            ...   \n",
       "1989          0.10         0.06            0.16           0.12   \n",
       "1990          0.46         0.37            0.32           0.24   \n",
       "1991          0.25         0.48            0.31           0.50   \n",
       "1992          0.06         0.24            0.16           0.37   \n",
       "1993          0.14         0.47            0.35           0.47   \n",
       "\n",
       "      MalePctDivorce  FemalePctDiv  TotalPctDiv  PctIlleg  ViolentCrimesPerPop  \n",
       "0               0.68          0.75         0.75      0.14                 0.20  \n",
       "1               1.00          0.91         1.00      0.24                 0.67  \n",
       "2               0.63          0.71         0.70      0.46                 0.43  \n",
       "3               0.34          0.49         0.44      0.33                 0.12  \n",
       "4               0.22          0.20         0.21      0.06                 0.03  \n",
       "...              ...           ...          ...       ...                  ...  \n",
       "1989            0.39          0.59         0.53      0.11                 0.09  \n",
       "1990            0.42          0.56         0.48      0.42                 0.45  \n",
       "1991            0.50          0.50         0.52      0.54                 0.23  \n",
       "1992            0.32          0.30         0.32      0.17                 0.19  \n",
       "1993            0.49          0.60         0.57      0.43                 0.48  \n",
       "\n",
       "[1994 rows x 9 columns]"
      ]
     },
     "execution_count": 22,
     "metadata": {},
     "output_type": "execute_result"
    }
   ],
   "source": [
    "ds_new=select_columns(ds,list1)\n",
    "ds_new"
   ]
  },
  {
   "cell_type": "code",
   "execution_count": 23,
   "metadata": {},
   "outputs": [
    {
     "data": {
      "text/plain": [
       "racepctblack           0\n",
       "pctWPubAsst            0\n",
       "PctPopUnderPov         0\n",
       "PctUnemployed          0\n",
       "MalePctDivorce         0\n",
       "FemalePctDiv           0\n",
       "TotalPctDiv            0\n",
       "PctIlleg               0\n",
       "ViolentCrimesPerPop    0\n",
       "dtype: int64"
      ]
     },
     "execution_count": 23,
     "metadata": {},
     "output_type": "execute_result"
    }
   ],
   "source": [
    "ds_new.isnull().sum()"
   ]
  },
  {
   "cell_type": "markdown",
   "metadata": {},
   "source": [
    "since  the data as such is normalized we dont need to find the outliers and skewness and also the attributes containing missing values have been neglected during the correlation process. "
   ]
  },
  {
   "cell_type": "code",
   "execution_count": 24,
   "metadata": {},
   "outputs": [
    {
     "data": {
      "text/plain": [
       "<matplotlib.axes._subplots.AxesSubplot at 0x16efeac05b0>"
      ]
     },
     "execution_count": 24,
     "metadata": {},
     "output_type": "execute_result"
    },
    {
     "data": {
      "image/png": "[encoded data removed]",
      "text/plain": [
       "<Figure size 432x288 with 1 Axes>"
      ]
     },
     "metadata": {
      "needs_background": "light"
     },
     "output_type": "display_data"
    }
   ],
   "source": [
    "sns.scatterplot(x='racepctblack',y='ViolentCrimesPerPop',data=ds_new)"
   ]
  },
  {
   "cell_type": "code",
   "execution_count": 25,
   "metadata": {},
   "outputs": [
    {
     "data": {
      "text/plain": [
       "<matplotlib.axes._subplots.AxesSubplot at 0x16eff067850>"
      ]
     },
     "execution_count": 25,
     "metadata": {},
     "output_type": "execute_result"
    },
    {
     "data": {
      "image/png": "[encoded data removed]",
      "text/plain": [
       "<Figure size 432x288 with 1 Axes>"
      ]
     },
     "metadata": {
      "needs_background": "light"
     },
     "output_type": "display_data"
    }
   ],
   "source": [
    "sns.lineplot(x='racepctblack',y='ViolentCrimesPerPop',data=ds_new)"
   ]
  },
  {
   "cell_type": "code",
   "execution_count": 26,
   "metadata": {},
   "outputs": [
    {
     "data": {
      "text/plain": [
       "<matplotlib.axes._subplots.AxesSubplot at 0x16eff101520>"
      ]
     },
     "execution_count": 26,
     "metadata": {},
     "output_type": "execute_result"
    },
    {
     "data": {
      "image/png": "[encoded data removed]",
      "text/plain": [
       "<Figure size 432x288 with 1 Axes>"
      ]
     },
     "metadata": {
      "needs_background": "light"
     },
     "output_type": "display_data"
    }
   ],
   "source": [
    "sns.lineplot(x='pctWPubAsst',y='ViolentCrimesPerPop',data=ds_new)"
   ]
  },
  {
   "cell_type": "code",
   "execution_count": 27,
   "metadata": {},
   "outputs": [
    {
     "data": {
      "text/plain": [
       "<matplotlib.axes._subplots.AxesSubplot at 0x16eff151910>"
      ]
     },
     "execution_count": 27,
     "metadata": {},
     "output_type": "execute_result"
    },
    {
     "data": {
      "image/png": "[encoded data removed]",
      "text/plain": [
       "<Figure size 432x288 with 1 Axes>"
      ]
     },
     "metadata": {
      "needs_background": "light"
     },
     "output_type": "display_data"
    }
   ],
   "source": [
    "sns.lineplot(x='PctPopUnderPov',y='ViolentCrimesPerPop',data=ds_new)"
   ]
  },
  {
   "cell_type": "code",
   "execution_count": 28,
   "metadata": {},
   "outputs": [
    {
     "data": {
      "text/plain": [
       "<matplotlib.axes._subplots.AxesSubplot at 0x16eff1941c0>"
      ]
     },
     "execution_count": 28,
     "metadata": {},
     "output_type": "execute_result"
    },
    {
     "data": {
      "image/png": "[encoded data removed]",
      "text/plain": [
       "<Figure size 432x288 with 1 Axes>"
      ]
     },
     "metadata": {
      "needs_background": "light"
     },
     "output_type": "display_data"
    }
   ],
   "source": [
    "sns.lineplot(x='TotalPctDiv',y='ViolentCrimesPerPop',data=ds_new)"
   ]
  },
  {
   "cell_type": "code",
   "execution_count": 29,
   "metadata": {},
   "outputs": [
    {
     "data": {
      "text/plain": [
       "<matplotlib.axes._subplots.AxesSubplot at 0x16eff151970>"
      ]
     },
     "execution_count": 29,
     "metadata": {},
     "output_type": "execute_result"
    },
    {
     "data": {
      "image/png": "[encoded data removed]",
      "text/plain": [
       "<Figure size 432x288 with 1 Axes>"
      ]
     },
     "metadata": {
      "needs_background": "light"
     },
     "output_type": "display_data"
    }
   ],
   "source": [
    "sns.lineplot(x='PctUnemployed',y='ViolentCrimesPerPop',data=ds_new)"
   ]
  },
  {
   "cell_type": "markdown",
   "metadata": {},
   "source": [
    "Training the model"
   ]
  },
  {
   "cell_type": "code",
   "execution_count": 30,
   "metadata": {},
   "outputs": [
    {
     "data": {
      "text/plain": [
       "0       0.20\n",
       "1       0.67\n",
       "2       0.43\n",
       "3       0.12\n",
       "4       0.03\n",
       "        ... \n",
       "1989    0.09\n",
       "1990    0.45\n",
       "1991    0.23\n",
       "1992    0.19\n",
       "1993    0.48\n",
       "Name: ViolentCrimesPerPop, Length: 1994, dtype: float64"
      ]
     },
     "execution_count": 30,
     "metadata": {},
     "output_type": "execute_result"
    }
   ],
   "source": [
    "y=ds_new['ViolentCrimesPerPop']\n",
    "y\n"
   ]
  },
  {
   "cell_type": "code",
   "execution_count": 31,
   "metadata": {},
   "outputs": [
    {
     "data": {
      "text/html": [
       "<div>\n",
       "<style scoped>\n",
       "    .dataframe tbody tr th:only-of-type {\n",
       "        vertical-align: middle;\n",
       "    }\n",
       "\n",
       "    .dataframe tbody tr th {\n",
       "        vertical-align: top;\n",
       "    }\n",
       "\n",
       "    .dataframe thead th {\n",
       "        text-align: right;\n",
       "    }\n",
       "</style>\n",
       "<table border=\"1\" class=\"dataframe\">\n",
       "  <thead>\n",
       "    <tr style=\"text-align: right;\">\n",
       "      <th></th>\n",
       "      <th>racepctblack</th>\n",
       "      <th>pctWPubAsst</th>\n",
       "      <th>PctPopUnderPov</th>\n",
       "      <th>PctUnemployed</th>\n",
       "      <th>MalePctDivorce</th>\n",
       "      <th>FemalePctDiv</th>\n",
       "      <th>TotalPctDiv</th>\n",
       "      <th>PctIlleg</th>\n",
       "    </tr>\n",
       "  </thead>\n",
       "  <tbody>\n",
       "    <tr>\n",
       "      <th>0</th>\n",
       "      <td>0.02</td>\n",
       "      <td>0.15</td>\n",
       "      <td>0.19</td>\n",
       "      <td>0.27</td>\n",
       "      <td>0.68</td>\n",
       "      <td>0.75</td>\n",
       "      <td>0.75</td>\n",
       "      <td>0.14</td>\n",
       "    </tr>\n",
       "    <tr>\n",
       "      <th>1</th>\n",
       "      <td>0.12</td>\n",
       "      <td>0.29</td>\n",
       "      <td>0.24</td>\n",
       "      <td>0.27</td>\n",
       "      <td>1.00</td>\n",
       "      <td>0.91</td>\n",
       "      <td>1.00</td>\n",
       "      <td>0.24</td>\n",
       "    </tr>\n",
       "    <tr>\n",
       "      <th>2</th>\n",
       "      <td>0.49</td>\n",
       "      <td>0.40</td>\n",
       "      <td>0.27</td>\n",
       "      <td>0.36</td>\n",
       "      <td>0.63</td>\n",
       "      <td>0.71</td>\n",
       "      <td>0.70</td>\n",
       "      <td>0.46</td>\n",
       "    </tr>\n",
       "    <tr>\n",
       "      <th>3</th>\n",
       "      <td>1.00</td>\n",
       "      <td>0.20</td>\n",
       "      <td>0.10</td>\n",
       "      <td>0.33</td>\n",
       "      <td>0.34</td>\n",
       "      <td>0.49</td>\n",
       "      <td>0.44</td>\n",
       "      <td>0.33</td>\n",
       "    </tr>\n",
       "    <tr>\n",
       "      <th>4</th>\n",
       "      <td>0.02</td>\n",
       "      <td>0.11</td>\n",
       "      <td>0.06</td>\n",
       "      <td>0.12</td>\n",
       "      <td>0.22</td>\n",
       "      <td>0.20</td>\n",
       "      <td>0.21</td>\n",
       "      <td>0.06</td>\n",
       "    </tr>\n",
       "    <tr>\n",
       "      <th>...</th>\n",
       "      <td>...</td>\n",
       "      <td>...</td>\n",
       "      <td>...</td>\n",
       "      <td>...</td>\n",
       "      <td>...</td>\n",
       "      <td>...</td>\n",
       "      <td>...</td>\n",
       "      <td>...</td>\n",
       "    </tr>\n",
       "    <tr>\n",
       "      <th>1989</th>\n",
       "      <td>0.10</td>\n",
       "      <td>0.06</td>\n",
       "      <td>0.16</td>\n",
       "      <td>0.12</td>\n",
       "      <td>0.39</td>\n",
       "      <td>0.59</td>\n",
       "      <td>0.53</td>\n",
       "      <td>0.11</td>\n",
       "    </tr>\n",
       "    <tr>\n",
       "      <th>1990</th>\n",
       "      <td>0.46</td>\n",
       "      <td>0.37</td>\n",
       "      <td>0.32</td>\n",
       "      <td>0.24</td>\n",
       "      <td>0.42</td>\n",
       "      <td>0.56</td>\n",
       "      <td>0.48</td>\n",
       "      <td>0.42</td>\n",
       "    </tr>\n",
       "    <tr>\n",
       "      <th>1991</th>\n",
       "      <td>0.25</td>\n",
       "      <td>0.48</td>\n",
       "      <td>0.31</td>\n",
       "      <td>0.50</td>\n",
       "      <td>0.50</td>\n",
       "      <td>0.50</td>\n",
       "      <td>0.52</td>\n",
       "      <td>0.54</td>\n",
       "    </tr>\n",
       "    <tr>\n",
       "      <th>1992</th>\n",
       "      <td>0.06</td>\n",
       "      <td>0.24</td>\n",
       "      <td>0.16</td>\n",
       "      <td>0.37</td>\n",
       "      <td>0.32</td>\n",
       "      <td>0.30</td>\n",
       "      <td>0.32</td>\n",
       "      <td>0.17</td>\n",
       "    </tr>\n",
       "    <tr>\n",
       "      <th>1993</th>\n",
       "      <td>0.14</td>\n",
       "      <td>0.47</td>\n",
       "      <td>0.35</td>\n",
       "      <td>0.47</td>\n",
       "      <td>0.49</td>\n",
       "      <td>0.60</td>\n",
       "      <td>0.57</td>\n",
       "      <td>0.43</td>\n",
       "    </tr>\n",
       "  </tbody>\n",
       "</table>\n",
       "<p>1994 rows × 8 columns</p>\n",
       "</div>"
      ],
      "text/plain": [
       "      racepctblack  pctWPubAsst  PctPopUnderPov  PctUnemployed  \\\n",
       "0             0.02         0.15            0.19           0.27   \n",
       "1             0.12         0.29            0.24           0.27   \n",
       "2             0.49         0.40            0.27           0.36   \n",
       "3             1.00         0.20            0.10           0.33   \n",
       "4             0.02         0.11            0.06           0.12   \n",
       "...            ...          ...             ...            ...   \n",
       "1989          0.10         0.06            0.16           0.12   \n",
       "1990          0.46         0.37            0.32           0.24   \n",
       "1991          0.25         0.48            0.31           0.50   \n",
       "1992          0.06         0.24            0.16           0.37   \n",
       "1993          0.14         0.47            0.35           0.47   \n",
       "\n",
       "      MalePctDivorce  FemalePctDiv  TotalPctDiv  PctIlleg  \n",
       "0               0.68          0.75         0.75      0.14  \n",
       "1               1.00          0.91         1.00      0.24  \n",
       "2               0.63          0.71         0.70      0.46  \n",
       "3               0.34          0.49         0.44      0.33  \n",
       "4               0.22          0.20         0.21      0.06  \n",
       "...              ...           ...          ...       ...  \n",
       "1989            0.39          0.59         0.53      0.11  \n",
       "1990            0.42          0.56         0.48      0.42  \n",
       "1991            0.50          0.50         0.52      0.54  \n",
       "1992            0.32          0.30         0.32      0.17  \n",
       "1993            0.49          0.60         0.57      0.43  \n",
       "\n",
       "[1994 rows x 8 columns]"
      ]
     },
     "execution_count": 31,
     "metadata": {},
     "output_type": "execute_result"
    }
   ],
   "source": [
    "x=ds_new.drop(columns='ViolentCrimesPerPop',axis=1)\n",
    "x"
   ]
  },
  {
   "cell_type": "code",
   "execution_count": 32,
   "metadata": {},
   "outputs": [
    {
     "data": {
      "text/plain": [
       "(1994,)"
      ]
     },
     "execution_count": 32,
     "metadata": {},
     "output_type": "execute_result"
    }
   ],
   "source": [
    "y.shape"
   ]
  },
  {
   "cell_type": "code",
   "execution_count": 33,
   "metadata": {},
   "outputs": [
    {
     "data": {
      "text/plain": [
       "(1994, 8)"
      ]
     },
     "execution_count": 33,
     "metadata": {},
     "output_type": "execute_result"
    }
   ],
   "source": [
    "x.shape"
   ]
  },
  {
   "cell_type": "code",
   "execution_count": 34,
   "metadata": {},
   "outputs": [],
   "source": [
    "from sklearn.linear_model import LinearRegression\n",
    "from sklearn.metrics import r2_score,mean_squared_error,mean_absolute_error\n",
    "from sklearn.model_selection import train_test_split"
   ]
  },
  {
   "cell_type": "code",
   "execution_count": 35,
   "metadata": {},
   "outputs": [],
   "source": [
    "x_train,x_test,y_train,y_test=train_test_split(x,y,test_size=0.33,random_state=43)"
   ]
  },
  {
   "cell_type": "code",
   "execution_count": 36,
   "metadata": {},
   "outputs": [
    {
     "data": {
      "text/plain": [
       "(1335, 8)"
      ]
     },
     "execution_count": 36,
     "metadata": {},
     "output_type": "execute_result"
    }
   ],
   "source": [
    "x_train.shape"
   ]
  },
  {
   "cell_type": "code",
   "execution_count": 37,
   "metadata": {},
   "outputs": [
    {
     "data": {
      "text/plain": [
       "(659, 8)"
      ]
     },
     "execution_count": 37,
     "metadata": {},
     "output_type": "execute_result"
    }
   ],
   "source": [
    "x_test.shape"
   ]
  },
  {
   "cell_type": "code",
   "execution_count": 38,
   "metadata": {},
   "outputs": [
    {
     "data": {
      "text/plain": [
       "(1335,)"
      ]
     },
     "execution_count": 38,
     "metadata": {},
     "output_type": "execute_result"
    }
   ],
   "source": [
    "y_train.shape"
   ]
  },
  {
   "cell_type": "code",
   "execution_count": 39,
   "metadata": {},
   "outputs": [
    {
     "data": {
      "text/plain": [
       "(659,)"
      ]
     },
     "execution_count": 39,
     "metadata": {},
     "output_type": "execute_result"
    }
   ],
   "source": [
    "y_test.shape"
   ]
  },
  {
   "cell_type": "code",
   "execution_count": 40,
   "metadata": {},
   "outputs": [
    {
     "name": "stdout",
     "output_type": "stream",
     "text": [
      "max r2 score corresponding 9 is 0.6464735862045135\n"
     ]
    }
   ],
   "source": [
    "max_r_score=0\n",
    "for r_state in range(0,100):\n",
    "    x_train,x_test,y_train,y_test=train_test_split(x,y,test_size=.33,random_state=r_state)\n",
    "    lr=LinearRegression()\n",
    "    lr.fit(x_train,y_train)\n",
    "    lr.score(x_train,y_train)\n",
    "    pred=lr.predict(x_test)\n",
    "    r2_scr=r2_score(y_test,pred)\n",
    "    if r2_scr>max_r_score:\n",
    "        max_r_score=r2_scr\n",
    "        final_r_state=r_state\n",
    "print(\"max r2 score corresponding\",final_r_state,'is',max_r_score)"
   ]
  },
  {
   "cell_type": "code",
   "execution_count": 41,
   "metadata": {},
   "outputs": [
    {
     "name": "stdout",
     "output_type": "stream",
     "text": [
      "r2 score is: 0.6464735862045135\n",
      "MSE is: 0.019305575668859647\n",
      "MAE is: 0.09955483223475184\n"
     ]
    }
   ],
   "source": [
    "#max r2 score we get at random state 9\n",
    "x_train,x_test,y_train,y_test=train_test_split(x,y,random_state=9,test_size=.33)\n",
    "lr=LinearRegression()\n",
    "lr.fit(x_train,y_train)\n",
    "pred=lr.predict(x_test)\n",
    "\n",
    "print('r2 score is:',r2_score(y_test,pred))\n",
    "print('MSE is:',mean_squared_error(y_test,pred))\n",
    "print('MAE is:',mean_absolute_error(y_test,pred))"
   ]
  },
  {
   "cell_type": "code",
   "execution_count": 42,
   "metadata": {},
   "outputs": [
    {
     "name": "stdout",
     "output_type": "stream",
     "text": [
      "coefficient of linear model: [ 0.12844671  0.09865667 -0.02541077  0.07352483  0.99231522  1.27950961\n",
      " -1.89865092  0.43386667]\n",
      "intercept of linear model: -0.08443786771239947\n"
     ]
    }
   ],
   "source": [
    "print('coefficient of linear model:',lr.coef_)\n",
    "\n",
    "print('intercept of linear model:',lr.intercept_)"
   ]
  },
  {
   "cell_type": "code",
   "execution_count": 43,
   "metadata": {},
   "outputs": [
    {
     "data": {
      "text/plain": [
       "['crimereport.pkl']"
      ]
     },
     "execution_count": 43,
     "metadata": {},
     "output_type": "execute_result"
    }
   ],
   "source": [
    "#saving the model\n",
    "import joblib\n",
    "#saving model as a pickel file\n",
    "joblib.dump(lr,'crimereport.pkl')"
   ]
  },
  {
   "cell_type": "code",
   "execution_count": null,
   "metadata": {},
   "outputs": [],
   "source": []
  }
 ],
 "metadata": {
  "kernelspec": {
   "display_name": "Python 3",
   "language": "python",
   "name": "python3"
  },
  "language_info": {
   "codemirror_mode": {
    "name": "ipython",
    "version": 3
   },
   "file_extension": ".py",
   "mimetype": "text/x-python",
   "name": "python",
   "nbconvert_exporter": "python",
   "pygments_lexer": "ipython3",
   "version": "3.8.3"
  }
 },
 "nbformat": 4,
 "nbformat_minor": 4
}
